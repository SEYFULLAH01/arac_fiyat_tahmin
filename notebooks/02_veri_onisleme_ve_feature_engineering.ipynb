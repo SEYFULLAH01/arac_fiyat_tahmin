{
  "cells": [
    {
      "cell_type": "markdown",
      "metadata": {},
      "source": [
        "# 2. Veri Önişleme ve Feature Engineering\n",
        "\n",
        "Bu notebook'ta veri önişleme işlemlerini yapacağız ve yeni özellikler türeteceğiz.\n",
        "\n",
        "## İçerik:\n",
        "1. Eksik değerleri temizleme\n",
        "2. Aykırı değerleri tespit etme ve yönetme\n",
        "3. Kategorik değişkenleri encode etme\n",
        "4. Yeni özellikler türetme (Feature Engineering)\n",
        "5. Veri normalizasyonu ve standartlaştırma\n"
      ]
    },
    {
      "cell_type": "code",
      "execution_count": null,
      "metadata": {},
      "outputs": [],
      "source": [
        "# Gerekli kütüphaneleri import edelim\n",
        "import pandas as pd\n",
        "import numpy as np\n",
        "import matplotlib.pyplot as plt\n",
        "import seaborn as sns\n",
        "from sklearn.preprocessing import LabelEncoder, StandardScaler, MinMaxScaler\n",
        "from sklearn.model_selection import train_test_split\n",
        "from scipy import stats\n",
        "import warnings\n",
        "warnings.filterwarnings('ignore')\n",
        "\n",
        "print(\"Kütüphaneler yüklendi!\")\n"
      ]
    }
  ],
  "metadata": {
    "language_info": {
      "name": "python"
    }
  },
  "nbformat": 4,
  "nbformat_minor": 2
}
