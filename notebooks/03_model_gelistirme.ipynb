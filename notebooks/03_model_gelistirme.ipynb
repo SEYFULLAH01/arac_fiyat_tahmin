{
  "cells": [
    {
      "cell_type": "markdown",
      "metadata": {},
      "source": [
        "# 3. Model Geliştirme\n",
        "\n",
        "Bu notebook'ta farklı makine öğrenmesi modellerini geliştireceğiz ve performanslarını karşılaştıracağız.\n",
        "\n",
        "## İçerik:\n",
        "1. Baseline Model (Linear Regression)\n",
        "2. Random Forest Model\n",
        "3. XGBoost Model\n",
        "4. Model performans karşılaştırması\n",
        "5. Cross-validation ile model değerlendirme\n",
        "6. Hiperparametre optimizasyonu\n"
      ]
    },
    {
      "cell_type": "code",
      "execution_count": null,
      "metadata": {},
      "outputs": [],
      "source": [
        "# Gerekli kütüphaneleri import edelim\n",
        "import pandas as pd\n",
        "import numpy as np\n",
        "import matplotlib.pyplot as plt\n",
        "import seaborn as sns\n",
        "from sklearn.linear_model import LinearRegression\n",
        "from sklearn.ensemble import RandomForestRegressor\n",
        "from sklearn.model_selection import train_test_split, cross_val_score, GridSearchCV\n",
        "from sklearn.metrics import mean_squared_error, mean_absolute_error, r2_score\n",
        "import xgboost as xgb\n",
        "import warnings\n",
        "warnings.filterwarnings('ignore')\n",
        "\n",
        "print(\"Kütüphaneler yüklendi!\")\n"
      ]
    }
  ],
  "metadata": {
    "language_info": {
      "name": "python"
    }
  },
  "nbformat": 4,
  "nbformat_minor": 2
}
