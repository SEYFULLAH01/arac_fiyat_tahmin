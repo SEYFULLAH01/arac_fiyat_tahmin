{
  "cells": [
    {
      "cell_type": "markdown",
      "metadata": {},
      "source": [
        "# 1. Veri Keşfi ve Ön Analiz (EDA)\n",
        "\n",
        "Bu notebook'ta Türkiye ikinci el araç veri setini keşfedeceğiz ve ön analizler yapacağız.\n",
        "\n",
        "## İçerik:\n",
        "1. Veri setini yükleme\n",
        "2. Temel bilgiler\n",
        "3. Eksik değer analizi\n",
        "4. Aykırı değer tespiti\n",
        "5. Kategorik değişkenlerin analizi\n",
        "6. Sayısal değişkenlerin analizi\n",
        "7. Değişkenler arası korelasyonlar\n"
      ]
    },
    {
      "cell_type": "code",
      "execution_count": null,
      "metadata": {},
      "outputs": [],
      "source": [
        "# Gerekli kütüphaneleri import edelim\n",
        "import pandas as pd\n",
        "import numpy as np\n",
        "import matplotlib.pyplot as plt\n",
        "import seaborn as sns\n",
        "import plotly.express as px\n",
        "import plotly.graph_objects as go\n",
        "from plotly.subplots import make_subplots\n",
        "import warnings\n",
        "warnings.filterwarnings('ignore')\n",
        "\n",
        "# Türkçe karakter desteği için\n",
        "plt.rcParams['font.family'] = 'DejaVu Sans'\n",
        "\n",
        "# Görselleştirme ayarları\n",
        "plt.style.use('seaborn-v0_8')\n",
        "sns.set_palette(\"husl\")\n",
        "\n",
        "print(\"Kütüphaneler başarıyla yüklendi!\")\n"
      ]
    },
    {
      "cell_type": "code",
      "execution_count": null,
      "metadata": {},
      "outputs": [],
      "source": [
        "# Veri setini yükleyelim\n",
        "# Not: Veri setini data/ klasörüne yerleştirmeniz gerekecek\n",
        "try:\n",
        "    df = pd.read_csv('../data/ikinci_el_arac_verisi.csv')\n",
        "    print(f\"Veri seti başarıyla yüklendi! Boyut: {df.shape}\")\n",
        "except FileNotFoundError:\n",
        "    print(\"Veri dosyası bulunamadı! Lütfen data/ klasörüne veri dosyasını yerleştirin.\")\n",
        "    print(\"Örnek veri seti oluşturuluyor...\")\n",
        "    # Örnek veri seti oluşturalım\n",
        "    np.random.seed(42)\n",
        "    n_samples = 1000\n",
        "    \n",
        "    markalar = ['Toyota', 'Volkswagen', 'Ford', 'Renault', 'Opel', 'BMW', 'Mercedes', 'Audi', 'Hyundai', 'Fiat']\n",
        "    modeller = ['Corolla', 'Golf', 'Focus', 'Megane', 'Astra', '3 Series', 'C-Class', 'A4', 'i20', 'Punto']\n",
        "    yakit_turleri = ['Benzin', 'Dizel', 'LPG', 'Hibrit']\n",
        "    vites_turleri = ['Manuel', 'Otomatik', 'Yarı Otomatik']\n",
        "    govde_tipleri = ['Sedan', 'Hatchback', 'SUV', 'Station Wagon', 'Coupe']\n",
        "    \n",
        "    df = pd.DataFrame({\n",
        "        'marka': np.random.choice(markalar, n_samples),\n",
        "        'model': np.random.choice(modeller, n_samples),\n",
        "        'model_yili': np.random.randint(2010, 2024, n_samples),\n",
        "        'kilometre': np.random.randint(5000, 300000, n_samples),\n",
        "        'motor_hacmi': np.random.choice([1.0, 1.2, 1.4, 1.6, 1.8, 2.0, 2.2, 2.5, 3.0], n_samples),\n",
        "        'yakit_turu': np.random.choice(yakit_turleri, n_samples),\n",
        "        'vites_turu': np.random.choice(vites_turleri, n_samples),\n",
        "        'govde_tipi': np.random.choice(govde_tipleri, n_samples),\n",
        "        'fiyat': np.random.randint(50000, 800000, n_samples)\n",
        "    })\n",
        "    \n",
        "    # Örnek veriyi kaydedelim\n",
        "    df.to_csv('../data/ornek_veri.csv', index=False)\n",
        "    print(f\"Örnek veri seti oluşturuldu! Boyut: {df.shape}\")\n"
      ]
    }
  ],
  "metadata": {
    "language_info": {
      "name": "python"
    }
  },
  "nbformat": 4,
  "nbformat_minor": 2
}
