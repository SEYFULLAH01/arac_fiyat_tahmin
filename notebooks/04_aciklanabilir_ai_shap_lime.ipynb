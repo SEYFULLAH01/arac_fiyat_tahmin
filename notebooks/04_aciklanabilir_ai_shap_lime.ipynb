{
  "cells": [
    {
      "cell_type": "markdown",
      "metadata": {},
      "source": [
        "# 4. Açıklanabilir AI - SHAP ve LIME\n",
        "\n",
        "Bu notebook'ta en iyi performans gösteren modelimizi SHAP ve LIME teknikleri ile açıklayacağız.\n",
        "\n",
        "## İçerik:\n",
        "1. SHAP (SHapley Additive exPlanations) analizi\n",
        "2. LIME (Local Interpretable Model-agnostic Explanations) analizi\n",
        "3. Global açıklamalar (model genelinde etkiler)\n",
        "4. Lokal açıklamalar (tek örnek için açıklamalar)\n",
        "5. Özellik önem analizi\n",
        "6. Görselleştirmeler\n"
      ]
    },
    {
      "cell_type": "code",
      "execution_count": null,
      "metadata": {},
      "outputs": [],
      "source": [
        "# Gerekli kütüphaneleri import edelim\n",
        "import pandas as pd\n",
        "import numpy as np\n",
        "import matplotlib.pyplot as plt\n",
        "import seaborn as sns\n",
        "import shap\n",
        "import lime\n",
        "import lime.lime_tabular\n",
        "from sklearn.ensemble import RandomForestRegressor\n",
        "import warnings\n",
        "warnings.filterwarnings('ignore')\n",
        "\n",
        "print(\"Kütüphaneler yüklendi!\")\n"
      ]
    }
  ],
  "metadata": {
    "language_info": {
      "name": "python"
    }
  },
  "nbformat": 4,
  "nbformat_minor": 2
}
